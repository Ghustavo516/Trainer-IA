{
  "nbformat": 4,
  "nbformat_minor": 0,
  "metadata": {
    "colab": {
      "provenance": [],
      "gpuType": "T4",
      "mount_file_id": "10Efj7aMjveSByMcHVVSihmWljlQBpoAQ",
      "authorship_tag": "ABX9TyNWm9mtvaOVUKSHfCqda1X7"
    },
    "kernelspec": {
      "name": "python3",
      "display_name": "Python 3"
    },
    "language_info": {
      "name": "python"
    },
    "accelerator": "GPU"
  },
  "cells": [
    {
      "cell_type": "code",
      "source": [
        "#Baixe as dependencias\n",
        "!pip install transformers datasets torch"
      ],
      "metadata": {
        "collapsed": true,
        "id": "Mf2ekCfziW0w"
      },
      "execution_count": null,
      "outputs": []
    },
    {
      "cell_type": "code",
      "source": [
        "#Importe as dependencias\n",
        "import pandas as pd\n",
        "from transformers import BertTokenizerFast, BertForQuestionAnswering, Trainer, TrainingArguments\n",
        "from datasets import Dataset\n",
        "import torch\n",
        "import os"
      ],
      "metadata": {
        "id": "LpqnNjaxiT3D"
      },
      "execution_count": null,
      "outputs": []
    },
    {
      "cell_type": "code",
      "source": [
        "os.environ[\"WANDB_DISABLED\"] = \"true\""
      ],
      "metadata": {
        "id": "0fDmDPMdmyLx"
      },
      "execution_count": null,
      "outputs": []
    },
    {
      "cell_type": "code",
      "source": [
        "# Carregar o arquivo CSV com pandas\n",
        "df = pd.read_csv('./teste.csv')\n",
        "\n",
        "# Preprocessamento do CSV para o formato correto\n",
        "def preprocess_data(examples):\n",
        "    questions = examples['question']\n",
        "    contexts = examples['context']\n",
        "    answers = examples['answer']\n",
        "\n",
        "    # Tokenizar perguntas e contexto\n",
        "    tokenized_inputs = tokenizer(questions, contexts, truncation=True, padding='max_length', max_length=512)\n",
        "\n",
        "    # Inicializar listas para as posições de início e fim\n",
        "    start_positions = []\n",
        "    end_positions = []\n",
        "\n",
        "    for i, answer in enumerate(answers):\n",
        "        context = contexts[i]\n",
        "\n",
        "        # Verificar se a resposta existe no contexto\n",
        "        start_idx = context.find(answer)\n",
        "        if start_idx != -1:\n",
        "            end_idx = start_idx + len(answer)\n",
        "            # Ajustar as posições para os tokens\n",
        "            token_start = tokenized_inputs.char_to_token(i, start_idx)\n",
        "            token_end = tokenized_inputs.char_to_token(i, end_idx - 1)\n",
        "\n",
        "            # Caso os tokens não sejam encontrados, atribua -1\n",
        "            if token_start is None or token_end is None:\n",
        "                start_positions.append(-1)\n",
        "                end_positions.append(-1)\n",
        "            else:\n",
        "                start_positions.append(token_start)\n",
        "                end_positions.append(token_end)\n",
        "        else:\n",
        "            # Se a resposta não for encontrada no contexto, atribua -1\n",
        "            start_positions.append(-1)\n",
        "            end_positions.append(-1)\n",
        "\n",
        "    # Adicionar as posições ao tokenizado\n",
        "    tokenized_inputs['start_positions'] = start_positions\n",
        "    tokenized_inputs['end_positions'] = end_positions\n",
        "    return tokenized_inputs"
      ],
      "metadata": {
        "id": "-Bw-vf4AiZrM"
      },
      "execution_count": null,
      "outputs": []
    },
    {
      "cell_type": "code",
      "source": [
        "# Tokenizer e modelo - <Substitua o modelo pelo o que voce necessitar>\n",
        "tokenizer = BertTokenizerFast.from_pretrained('bert-base-uncased')\n",
        "model = BertForQuestionAnswering.from_pretrained('bert-base-uncased')"
      ],
      "metadata": {
        "id": "330noMHpjMkC"
      },
      "execution_count": null,
      "outputs": []
    },
    {
      "cell_type": "code",
      "source": [
        "# Converter o DataFrame para Dataset Hugging Face\n",
        "dataset = Dataset.from_pandas(df)"
      ],
      "metadata": {
        "id": "X08FGfbnjRA1"
      },
      "execution_count": null,
      "outputs": []
    },
    {
      "cell_type": "code",
      "source": [
        "# Processar os dados\n",
        "dataset = dataset.map(preprocess_data, batched=True)"
      ],
      "metadata": {
        "id": "j2sACAuFj86g"
      },
      "execution_count": null,
      "outputs": []
    },
    {
      "cell_type": "code",
      "source": [
        "# Dividir em treino e validação\n",
        "split_dataset = dataset.train_test_split(test_size=0.2)\n",
        "train_dataset = split_dataset[\"train\"]\n",
        "validation_dataset = split_dataset[\"test\"]"
      ],
      "metadata": {
        "id": "XOGxtkmImURY"
      },
      "execution_count": null,
      "outputs": []
    },
    {
      "cell_type": "code",
      "source": [
        "# Configurar argumentos de treinamento\n",
        "training_args = TrainingArguments(\n",
        "    output_dir=\"./qa_model\", #Diretorio onde será salvo o seu modelo\n",
        "    evaluation_strategy=\"epoch\",\n",
        "    logging_strategy=\"epoch\",\n",
        "    save_strategy=\"epoch\",\n",
        "    per_device_train_batch_size=4,  # Ajuste conforme necessário <4, 8, 12, 16>\n",
        "    per_device_eval_batch_size=4,\n",
        "    num_train_epochs=3,\n",
        "    learning_rate=5e-5,\n",
        "    weight_decay=0.01,\n",
        "    push_to_hub=False,\n",
        "    report_to=\"none\",\n",
        "    logging_dir=\"./logs\", # Armazena os logs para ser acompanhados durante o treinamento\n",
        ")\n",
        "\n"
      ],
      "metadata": {
        "id": "Nb4RkgrzjekQ"
      },
      "execution_count": null,
      "outputs": []
    },
    {
      "cell_type": "code",
      "source": [
        "# 5. Criar o Trainer\n",
        "trainer = Trainer(\n",
        "    model=model,\n",
        "    args=training_args,\n",
        "    train_dataset=train_dataset,\n",
        "    eval_dataset=validation_dataset,\n",
        "    tokenizer=tokenizer\n",
        ")"
      ],
      "metadata": {
        "id": "0N0DE3b_W5Fm"
      },
      "execution_count": null,
      "outputs": []
    },
    {
      "cell_type": "code",
      "source": [
        "# Iniciar o treinamento\n",
        "trainer.train()\n",
        "\n",
        "# Salvando o modelo no diretório especificado\n",
        "trainer.save_model()\n",
        "\n",
        "# Caso queira salvar o tokenizador junto com o modelo:\n",
        "model.save_pretrained(training_args.output_dir, safe_serialization=True)\n",
        "tokenizer.save_pretrained(training_args.output_dir)"
      ],
      "metadata": {
        "id": "PZN72DB4ln-B"
      },
      "execution_count": null,
      "outputs": []
    }
  ]
}